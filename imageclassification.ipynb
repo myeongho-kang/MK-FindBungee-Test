{
 "cells": [
  {
   "cell_type": "code",
   "execution_count": 1,
   "metadata": {},
   "outputs": [],
   "source": [
    "from azure.cognitiveservices.vision.customvision.prediction import CustomVisionPredictionClient\n",
    "from msrest.authentication import ApiKeyCredentials"
   ]
  },
  {
   "cell_type": "code",
   "execution_count": 2,
   "metadata": {},
   "outputs": [],
   "source": [
    "prediction_key = \"7b37147b5302455e990dabf44827d00b\"\n",
    "prediction_endpoint = \"https://mkmoonrocks-prediction.cognitiveservices.azure.com\"\n",
    "project_id = \"35a3b8f3-1462-4b7a-9053-5561bba42250\"\n",
    "model_name = \"Iteration1\""
   ]
  },
  {
   "cell_type": "code",
   "execution_count": 3,
   "metadata": {},
   "outputs": [],
   "source": [
    "credentials = ApiKeyCredentials(in_headers={\"Prediction-key\": prediction_key})\n",
    "predictor = CustomVisionPredictionClient(endpoint=prediction_endpoint, credentials=credentials)"
   ]
  },
  {
   "cell_type": "code",
   "execution_count": 8,
   "metadata": {},
   "outputs": [
    {
     "name": "stdout",
     "output_type": "stream",
     "text": [
      "Tag: Highland, Probability: 0.96\n",
      "Tag: Basalt, Probability: 0.04\n"
     ]
    }
   ],
   "source": [
    "image_file = \"./data/Crustal_Anorthosite_s71-42954.jpg\"\n",
    "\n",
    "with open(image_file, mode=\"rb\") as image_data:\n",
    "    results = predictor.classify_image(project_id, model_name, image_data)\n",
    "\n",
    "for prediction in results.predictions:\n",
    "    print(f\"Tag: {prediction.tag_name}, Probability: {prediction.probability:.2f}\")\n"
   ]
  }
 ],
 "metadata": {
  "kernelspec": {
   "display_name": "Python 3",
   "language": "python",
   "name": "python3"
  },
  "language_info": {
   "codemirror_mode": {
    "name": "ipython",
    "version": 3
   },
   "file_extension": ".py",
   "mimetype": "text/x-python",
   "name": "python",
   "nbconvert_exporter": "python",
   "pygments_lexer": "ipython3",
   "version": "3.10.13"
  }
 },
 "nbformat": 4,
 "nbformat_minor": 2
}
